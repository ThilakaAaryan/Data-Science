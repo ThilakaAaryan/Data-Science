{
  "nbformat": 4,
  "nbformat_minor": 0,
  "metadata": {
    "colab": {
      "provenance": [],
      "authorship_tag": "ABX9TyPqtwTQK414tgRa7gsnOpSj",
      "include_colab_link": true
    },
    "kernelspec": {
      "name": "python3",
      "display_name": "Python 3"
    },
    "language_info": {
      "name": "python"
    }
  },
  "cells": [
    {
      "cell_type": "markdown",
      "metadata": {
        "id": "view-in-github",
        "colab_type": "text"
      },
      "source": [
        "<a href=\"https://colab.research.google.com/github/ThilakaAaryan/Data-Science/blob/main/AWS_%3ESQL_%3EPYTHON.ipynb\" target=\"_parent\"><img src=\"https://colab.research.google.com/assets/colab-badge.svg\" alt=\"Open In Colab\"/></a>"
      ]
    },
    {
      "cell_type": "code",
      "execution_count": 1,
      "metadata": {
        "colab": {
          "base_uri": "https://localhost:8080/"
        },
        "id": "S1TTuLlO5BSf",
        "outputId": "b8193151-ab24-4404-f85d-3a0f668243cb"
      },
      "outputs": [
        {
          "output_type": "stream",
          "name": "stdout",
          "text": [
            "Collecting mysql-connector-python\n",
            "  Downloading mysql_connector_python-9.0.0-cp310-cp310-manylinux_2_17_x86_64.whl.metadata (2.0 kB)\n",
            "Downloading mysql_connector_python-9.0.0-cp310-cp310-manylinux_2_17_x86_64.whl (19.3 MB)\n",
            "\u001b[2K   \u001b[90m━━━━━━━━━━━━━━━━━━━━━━━━━━━━━━━━━━━━━━━━\u001b[0m \u001b[32m19.3/19.3 MB\u001b[0m \u001b[31m59.8 MB/s\u001b[0m eta \u001b[36m0:00:00\u001b[0m\n",
            "\u001b[?25hInstalling collected packages: mysql-connector-python\n",
            "Successfully installed mysql-connector-python-9.0.0\n"
          ]
        }
      ],
      "source": [
        "pip install mysql-connector-python"
      ]
    },
    {
      "cell_type": "code",
      "source": [
        "import mysql.connector"
      ],
      "metadata": {
        "id": "rvDGrSS_5pA9"
      },
      "execution_count": 2,
      "outputs": []
    },
    {
      "cell_type": "code",
      "source": [
        "server = mysql.connector.connect(host = 'database-1.c1g8qkg02il1.ap-south-1.rds.amazonaws.com', user = 'admin',password = 'ThilakaJay')\n",
        "server"
      ],
      "metadata": {
        "colab": {
          "base_uri": "https://localhost:8080/"
        },
        "id": "rLg7sK2K5oyt",
        "outputId": "3b9dd61e-5bf6-4fb1-c1b8-63bea846b4b6"
      },
      "execution_count": 5,
      "outputs": [
        {
          "output_type": "execute_result",
          "data": {
            "text/plain": [
              "<mysql.connector.connection_cext.CMySQLConnection at 0x7a85cc0c3f40>"
            ]
          },
          "metadata": {},
          "execution_count": 5
        }
      ]
    },
    {
      "cell_type": "code",
      "source": [
        "Thilaka = server.cursor()"
      ],
      "metadata": {
        "id": "i_uKcIsH5ok9"
      },
      "execution_count": 10,
      "outputs": []
    },
    {
      "cell_type": "code",
      "source": [
        "Thilaka.execute('show databases')"
      ],
      "metadata": {
        "id": "WYdyv3sL5oMq"
      },
      "execution_count": 11,
      "outputs": []
    },
    {
      "cell_type": "code",
      "source": [
        "for i in Thilaka:\n",
        "  print(i)"
      ],
      "metadata": {
        "colab": {
          "base_uri": "https://localhost:8080/"
        },
        "id": "BlXDFxj5kn_0",
        "outputId": "31b0704a-c1c5-4fef-a381-c30d478c9629"
      },
      "execution_count": 12,
      "outputs": [
        {
          "output_type": "stream",
          "name": "stdout",
          "text": [
            "('Thilaka',)\n",
            "('information_schema',)\n",
            "('mysql',)\n",
            "('performance_schema',)\n",
            "('sys',)\n"
          ]
        }
      ]
    },
    {
      "cell_type": "code",
      "source": [
        "server = mysql.connector.connect(host = 'database-1.c1g8qkg02il1.ap-south-1.rds.amazonaws.com', user = 'admin',password = 'ThilakaJay',database = 'Thilaka',port=3306)"
      ],
      "metadata": {
        "id": "d177KCRzko-X"
      },
      "execution_count": 13,
      "outputs": []
    },
    {
      "cell_type": "code",
      "source": [
        "Thilakajay = server.cursor()"
      ],
      "metadata": {
        "id": "oSonMVJUlGvt"
      },
      "execution_count": 14,
      "outputs": []
    },
    {
      "cell_type": "code",
      "source": [
        "Thilakajay.execute('''create table emp1\n",
        "(emp_id int primary key,\n",
        "emp_name varchar(20),\n",
        "salary float,\n",
        "department_id int)''')"
      ],
      "metadata": {
        "id": "czCZWsNHwUcx"
      },
      "execution_count": null,
      "outputs": []
    },
    {
      "cell_type": "code",
      "source": [
        "server.commit()"
      ],
      "metadata": {
        "id": "qI62Ss6vlHO0"
      },
      "execution_count": 16,
      "outputs": []
    },
    {
      "cell_type": "code",
      "source": [
        "Thilakajay.execute('''insert into emp1 values\n",
        "(200, 'karthik', 10000, 100),\n",
        "(201, 'shalini', 15000, 101),\n",
        "(202, 'sanjay', 12000.50, 102),\n",
        "(203, 'radha', 13000.25, 100),\n",
        "(204, 'dinesh', 11000, 100),\n",
        "(205, 'ajay', 10000, 105),\n",
        "(206, 'kannan', 14000, 105)''')"
      ],
      "metadata": {
        "id": "7LGi1tkdlHbS"
      },
      "execution_count": null,
      "outputs": []
    },
    {
      "cell_type": "code",
      "source": [
        "server.commit()"
      ],
      "metadata": {
        "id": "TSgBkMzilHmz"
      },
      "execution_count": 17,
      "outputs": []
    },
    {
      "cell_type": "code",
      "source": [
        "Thilakajay.execute('select * from emp1')"
      ],
      "metadata": {
        "id": "pGrW0wSKls_V"
      },
      "execution_count": 18,
      "outputs": []
    },
    {
      "cell_type": "code",
      "source": [
        "x = Thilakajay.fetchall()"
      ],
      "metadata": {
        "id": "gd0lOh6Zlzmh"
      },
      "execution_count": 19,
      "outputs": []
    },
    {
      "cell_type": "code",
      "source": [
        "print(x)"
      ],
      "metadata": {
        "colab": {
          "base_uri": "https://localhost:8080/"
        },
        "id": "AQ7cjuLGlzey",
        "outputId": "14bc4315-b3c0-4c99-d386-835efd292ac7"
      },
      "execution_count": 20,
      "outputs": [
        {
          "output_type": "stream",
          "name": "stdout",
          "text": [
            "[(200, 'karthik', 10000.0, 100), (201, 'shalini', 15000.0, 101), (202, 'sanjay', 12000.5, 102), (203, 'radha', 13000.2, 100), (204, 'dinesh', 11000.0, 100), (206, 'kannan', 14000.0, 105)]\n"
          ]
        }
      ]
    },
    {
      "cell_type": "code",
      "source": [
        "Thilakajay.execute('''create table dept\n",
        "(dept_id int primary key,\n",
        "dept_name varchar(20))''')\n",
        "\n",
        "server.commit()"
      ],
      "metadata": {
        "id": "Ac3o6ciJl-6s"
      },
      "execution_count": null,
      "outputs": []
    },
    {
      "cell_type": "code",
      "source": [
        "Thilakajay.execute('''insert into dept\n",
        "values\n",
        "(100, 'finance'),\n",
        "(101, 'admin'),\n",
        "(102, 'IT'),\n",
        "(103, 'account'),\n",
        "(104, 'HR')''')\n",
        "\n",
        "server.commit()"
      ],
      "metadata": {
        "id": "tmzRxotqmG58"
      },
      "execution_count": null,
      "outputs": []
    },
    {
      "cell_type": "code",
      "source": [
        "Thilakajay.execute(\"select * from dept\")"
      ],
      "metadata": {
        "id": "q42z5T9LmHk3"
      },
      "execution_count": 21,
      "outputs": []
    },
    {
      "cell_type": "code",
      "source": [
        "data = Thilakajay.fetchall()\n",
        "print(data)"
      ],
      "metadata": {
        "colab": {
          "base_uri": "https://localhost:8080/"
        },
        "id": "-GcTRyqNlzaY",
        "outputId": "07eff625-77af-4872-920b-bad22cf15a21"
      },
      "execution_count": 22,
      "outputs": [
        {
          "output_type": "stream",
          "name": "stdout",
          "text": [
            "[(100, 'finance'), (101, 'admin'), (102, 'IT'), (103, 'account'), (104, 'HR')]\n"
          ]
        }
      ]
    },
    {
      "cell_type": "code",
      "source": [
        "Thilakajay.execute('''select emp1.emp_id, emp1.emp_name,emp1.salary,emp1.department_id, dept.dept_id, dept.dept_name\n",
        "from emp1 inner join dept on emp1.department_id = dept.dept_id''')"
      ],
      "metadata": {
        "id": "E0-ubOuSmUyE"
      },
      "execution_count": 25,
      "outputs": []
    },
    {
      "cell_type": "code",
      "source": [
        "y = Thilakajay.fetchall()\n",
        "print(y)"
      ],
      "metadata": {
        "colab": {
          "base_uri": "https://localhost:8080/"
        },
        "id": "YHH0t0dDmaI9",
        "outputId": "425db036-e989-48c1-ad17-1ae37ab64730"
      },
      "execution_count": 26,
      "outputs": [
        {
          "output_type": "stream",
          "name": "stdout",
          "text": [
            "[(200, 'karthik', 10000.0, 100, 100, 'finance'), (201, 'shalini', 15000.0, 101, 101, 'admin'), (202, 'sanjay', 12000.5, 102, 102, 'IT'), (203, 'radha', 13000.2, 100, 100, 'finance'), (204, 'dinesh', 11000.0, 100, 100, 'finance')]\n"
          ]
        }
      ]
    },
    {
      "cell_type": "code",
      "source": [
        "Thilakajay.execute('select * from emp1')\n",
        "Thilakajay.fetchall()"
      ],
      "metadata": {
        "colab": {
          "base_uri": "https://localhost:8080/"
        },
        "id": "5jcXP5Dumcy4",
        "outputId": "f9473427-bfc0-4b1b-cf65-63637bbc3f8b"
      },
      "execution_count": 24,
      "outputs": [
        {
          "output_type": "execute_result",
          "data": {
            "text/plain": [
              "[(200, 'karthik', 10000.0, 100),\n",
              " (201, 'shalini', 15000.0, 101),\n",
              " (202, 'sanjay', 12000.5, 102),\n",
              " (203, 'radha', 13000.2, 100),\n",
              " (204, 'dinesh', 11000.0, 100),\n",
              " (206, 'kannan', 14000.0, 105)]"
            ]
          },
          "metadata": {},
          "execution_count": 24
        }
      ]
    },
    {
      "cell_type": "code",
      "source": [
        "Thilakajay.execute(\"delete from emp1 where emp_id = 205 \")\n",
        "server.commit()"
      ],
      "metadata": {
        "id": "CYUVt-JMmlbv"
      },
      "execution_count": 27,
      "outputs": []
    },
    {
      "cell_type": "code",
      "source": [
        "Thilakajay.execute('select * from emp1')\n",
        "Thilakajay.fetchall()"
      ],
      "metadata": {
        "colab": {
          "base_uri": "https://localhost:8080/"
        },
        "id": "gab1nhe5mxwu",
        "outputId": "8980b3f7-d22c-4f37-b055-49c582b82069"
      },
      "execution_count": 28,
      "outputs": [
        {
          "output_type": "execute_result",
          "data": {
            "text/plain": [
              "[(200, 'karthik', 10000.0, 100),\n",
              " (201, 'shalini', 15000.0, 101),\n",
              " (202, 'sanjay', 12000.5, 102),\n",
              " (203, 'radha', 13000.2, 100),\n",
              " (204, 'dinesh', 11000.0, 100),\n",
              " (206, 'kannan', 14000.0, 105)]"
            ]
          },
          "metadata": {},
          "execution_count": 28
        }
      ]
    }
  ]
}